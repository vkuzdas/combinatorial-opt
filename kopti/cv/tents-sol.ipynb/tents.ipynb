{
 "cells": [
  {
   "cell_type": "markdown",
   "metadata": {},
   "source": [
    "# Find the Tents\n",
    "\n",
    "_Combinatorial Optimization course, FEE CTU in Prague. Created by [Industrial Informatics Department](http://industrialinformatics.fel.cvut.cz)._\n",
    "\n",
    "The problem was taken from https://www.brainbashers.com/tents.asp ; there, you can try to solve some examples manually.\n",
    "\n",
    "## Task\n",
    "\n",
    "Find all of the hidden tents in the forest grid.\n",
    "\n",
    "You know that:\n",
    "\n",
    "- Each tent is attached to one tree (so there are as many tents as there are trees).\n",
    "- A tent can only be found horizontally or vertically adjacent to a tree.\n",
    "- Tents are never adjacent to each other, neither vertically, horizontally, nor diagonally.\n",
    "- A tree might be next to two tents but is only connected to one.\n",
    "\n",
    "You are also given two vectors indicating how many tents are in each respective row or column of the forest grid.\n",
    "\n",
    "\n",
    "## Input\n",
    "\n",
    "You are given a positive integer $n \\geq 2$, representing the size of the forest grid (assume it is a square of size $(n \\times n$). You are also given vectors $\\mathbf r = (r_1, \\dots, r_n)$ and $\\mathbf c = (c_1, \\dots, c_n)$ representing the numbers of the tents in the rows and columns of the forest grid. Finally, you are given a list of coordinates of the trees $((x_1, y_1), \\dots, (x_k, y_k))$.\n"
   ]
  },
  {
   "cell_type": "code",
   "execution_count": 36,
   "metadata": {},
   "outputs": [],
   "source": [
    "# 2x2 - Extra small (for debugging)\n",
    "n = 3\n",
    "r = (1, 1, 0)\n",
    "c = (1, 0, 1)\n",
    "trees = [(1,1), (3,2)]"
   ]
  },
  {
   "cell_type": "code",
   "execution_count": 53,
   "metadata": {},
   "outputs": [],
   "source": [
    "# 8x8 - Medium\n",
    "n = 8\n",
    "r = (3, 1, 1, 2, 0, 2, 0, 3)\n",
    "c = (2, 1, 2, 2 ,1, 1 ,2 ,1)\n",
    "trees = [(2, 1), (5, 1), (6, 1),\n",
    "         (1, 2),\n",
    "         (3, 3),\n",
    "         (3, 4), (6, 4),\n",
    "         (4, 5), (6, 5),\n",
    "         (8, 7),\n",
    "         (2, 8), (4, 8)]"
   ]
  },
  {
   "cell_type": "code",
   "execution_count": 60,
   "metadata": {},
   "outputs": [],
   "source": [
    "# Weekly special\n",
    "n = 20\n",
    "r = (7, 2, 3, 4, 3, 5, 4, 4, 4, 4, 3, 6, 3, 6, 2, 3, 6, 3, 3, 5)\n",
    "c = (6, 4, 3, 5, 4, 4, 4, 3, 5, 3, 4, 3, 4, 4, 6, 3 ,4, 3, 6, 2)\n",
    "trees = [(3, 1), (4, 1), (8, 1), (13, 1), (15, 1),\n",
    "         (1, 2), (9, 2), (18, 2), (19, 2),\n",
    "         (5, 3), (12, 3), (15, 3),\n",
    "         (2, 4), (4, 4), (9, 4), (17, 4),\n",
    "         (6, 5), (10, 5), (13, 5), (17, 5), (20, 5),\n",
    "         (1, 6), (7, 6), (10, 6), (12, 6), (16, 6),\n",
    "         (20, 7),\n",
    "         (1, 8), (4, 8), (5, 8), (11, 8), (13, 8), (14, 8), (19, 8),\n",
    "         (4, 9), (6, 9), (9, 9), (15, 9), (17, 9),\n",
    "         (8, 10), (17, 10), (19, 10),\n",
    "         (12, 11),\n",
    "         (5, 12), (7, 12), (14, 12), (16, 12),\n",
    "         (1, 13), (2, 13), (6, 13), (19, 13),\n",
    "         (11, 14), (14, 14), (20, 14),\n",
    "         (3, 15), (5, 15), (6, 15), (8, 15), (13, 15), (20, 15),\n",
    "         (2, 16), (3, 16), (10, 16),\n",
    "         (8, 17), (11, 17), (14, 17), (15, 17),\n",
    "         (2, 18), (6, 18), (9, 18), (12, 18), (13, 18), (18, 18),\n",
    "         (2, 19), (7, 19), (15, 19), (17, 19), (20, 19),\n",
    "         (5, 20), (10, 20)]"
   ]
  },
  {
   "cell_type": "markdown",
   "metadata": {},
   "source": [
    "## Output\n",
    "\n",
    "You should find the coordinates $(x_i, y_i), i \\in \\{1,\\dots,k\\}$, of the individual tents.\n",
    "\n",
    "## Model"
   ]
  },
  {
   "cell_type": "code",
   "execution_count": 61,
   "metadata": {},
   "outputs": [
    {
     "name": "stdout",
     "output_type": "stream",
     "text": [
      "Optimize a model with 2281 rows, 1936 columns and 21776 nonzeros\n",
      "Variable types: 0 continuous, 1936 integer (1936 binary)\n",
      "Coefficient statistics:\n",
      "  Matrix range     [1e+00, 8e+00]\n",
      "  Objective range  [0e+00, 0e+00]\n",
      "  Bounds range     [1e+00, 1e+00]\n",
      "  RHS range        [1e+00, 8e+00]\n",
      "Presolve removed 2281 rows and 1936 columns\n",
      "Presolve time: 0.03s\n",
      "Presolve: All rows and columns removed\n",
      "\n",
      "Explored 0 nodes (0 simplex iterations) in 0.05 seconds\n",
      "Thread count was 1 (of 4 available processors)\n",
      "\n",
      "Solution count 1: 0 \n",
      "\n",
      "Optimal solution found (tolerance 1.00e-04)\n",
      "Best objective 0.000000000000e+00, best bound 0.000000000000e+00, gap 0.0000%\n"
     ]
    }
   ],
   "source": [
    "import gurobipy as g\n",
    "\n",
    "tree_grid = [[False for _ in range(n+2)] for _ in range(n+2)]\n",
    "for t_x, t_y in trees:\n",
    "    tree_grid[t_y][t_x] = True\n",
    "\n",
    "model = g.Model()\n",
    "\n",
    "# - add variables\n",
    "dirs = [\"N\", \"E\", \"S\", \"W\"]\n",
    "\n",
    "# a[x,y,d] = 1 ~ there is a tent on coord. (x,y) linked with tree in direction dir\n",
    "a = model.addVars(n+2, n+2, dirs, vtype=g.GRB.BINARY, name=\"a\")\n",
    "\n",
    "# - add constraints\n",
    "for x in range(1, n+1):\n",
    "    for y in range(1, n+1):\n",
    "        # If there is not a tree, constrain the domains of neigh. fields\n",
    "        if not tree_grid[y][x]:\n",
    "            model.addConstr(a[x-1,y,\"E\"] == 0)\n",
    "            model.addConstr(a[x+1,y,\"W\"] == 0)\n",
    "            model.addConstr(a[x,y-1,\"S\"] == 0)\n",
    "            model.addConstr(a[x,y+1,\"N\"] == 0)\n",
    "        # if there is a tree, exactly one tent is linked to it\n",
    "        else:\n",
    "            model.addConstr(a[x-1,y,\"E\"] + a[x+1,y,\"W\"] + a[x,y-1,\"S\"] + a[x,y+1,\"N\"] == 1)\n",
    "            \n",
    "        # if there is a tent, there cannot be an adjacent tent\n",
    "        model.addConstr(8 * (1-a.sum(x,y,\"*\")) >= a.sum(x+1,y,\"*\") + a.sum(x+1,y+1,\"*\") + a.sum(x+1,y-1,\"*\")  \n",
    "                                                + a.sum(x-1,y,\"*\") + a.sum(x-1,y+1,\"*\") + a.sum(x-1,y-1,\"*\")  \n",
    "                                                + a.sum(x,y+1,\"*\") + a.sum(x,y-1,\"*\"))\n",
    "        \n",
    "        # there can be only a single tent at one place\n",
    "        model.addConstr(a.sum(x,y,\"*\") <= 1)\n",
    "            \n",
    "# columns and rows \n",
    "for i in range(1, n+1):\n",
    "    model.addConstr(a.sum(i, \"*\", \"*\") == c[i-1])  # c is indexed from 0\n",
    "    model.addConstr(a.sum(\"*\", i, \"*\") == r[i-1])  # r is indexed from 0\n",
    "\n",
    "# no tents at trees\n",
    "for t_x, t_y in trees:\n",
    "    model.addConstr(a.sum(t_x,t_y,\"*\") == 0)\n",
    "    \n",
    "# no tents on the dummy boundaries\n",
    "model.addConstr(a.sum(0, \"*\", \"*\") + a.sum(n+1,\"*\", \"*\") + a.sum(\"*\", 0, \"*\") + a.sum(\"*\", n+1, \"*\") == 0)\n",
    "\n",
    "model.optimize()\n",
    "\n",
    "tents = []\n",
    "for x in range(1, n+1):\n",
    "    for y in range(1, n+1):\n",
    "        if a.sum(x,y,\"*\").getValue() > 0.5:\n",
    "            tents.append((x,y))"
   ]
  },
  {
   "cell_type": "markdown",
   "metadata": {},
   "source": [
    " ##  Visualization"
   ]
  },
  {
   "cell_type": "code",
   "execution_count": 59,
   "metadata": {},
   "outputs": [],
   "source": [
    "import matplotlib.pyplot as plt\n",
    "import numpy as np\n",
    "\n",
    "def visualize(n, trees, tents, r, c):\n",
    "    grid = [[\".\" for _ in range(n+2)] for _ in range(n+2)]\n",
    "    \n",
    "    for t_x, t_y in tents:\n",
    "        grid[t_y][t_x] = \"X\"\n",
    "    \n",
    "    for t_x, t_y in trees:\n",
    "        grid[t_y][t_x] = \"T\"\n",
    "\n",
    "    print(\"  \", end=\"\")\n",
    "    for c_cur in c:\n",
    "        print(c_cur, end=\" \")\n",
    "    print()\n",
    "    \n",
    "    for y in range(1, n+1):\n",
    "        print(r[y-1], end=\" \")\n",
    "        for x in range(1, n+1):\n",
    "            print(grid[y][x], end=\" \")\n",
    "            \n",
    "        print()"
   ]
  },
  {
   "cell_type": "code",
   "execution_count": 62,
   "metadata": {},
   "outputs": [
    {
     "name": "stdout",
     "output_type": "stream",
     "text": [
      "  6 4 3 5 4 4 4 3 5 3 4 3 4 4 6 3 4 3 6 2 \n",
      "7 . X T T X . X T X . . . T X T X . X . . \n",
      "2 T . . . . . . . T . . X . . . . . T T X \n",
      "3 X . . X T . . . . . . T . X T . . . . . \n",
      "4 . T . T . X . X T X . . . . . X T . . . \n",
      "3 . X . X . T . . . T . . T . . . T . X T \n",
      "5 T . . . . . T . X T X T X . X T X . . . \n",
      "4 X . . . X . X . . . . . . . . . . . X T \n",
      "4 T . X T T . . . X . T . T T X . X . T . \n",
      "4 X . . T . T . . T . X . X . T . T . X . \n",
      "4 . . . X . X . T X . . . . . X . T . T . \n",
      "3 . . . . . . . . . . X T . . . . X . X . \n",
      "6 . X . X T X T X . . . . X T X T . . . . \n",
      "3 T T . . . T . . . . X . . . . . . X T X \n",
      "6 X . X . . X . X . . T . X T X . . . . T \n",
      "2 . . T . T T . T . X . . T . . . . . X T \n",
      "3 X T T . X . . . . T . . . X . . . . . . \n",
      "6 . . X . . . X T X . T X . T T X . X . . \n",
      "3 X T . . X T . . T . . T T X . . . T . . \n",
      "3 . T . . . . T . . X . X . . T . T . X T \n",
      "5 . X . X T . X . . T . . . . X . X . . . \n"
     ]
    }
   ],
   "source": [
    "visualize(n, trees, tents, r, c)"
   ]
  },
  {
   "cell_type": "code",
   "execution_count": null,
   "metadata": {},
   "outputs": [],
   "source": []
  }
 ],
 "metadata": {
  "kernelspec": {
   "display_name": "Python 3",
   "language": "python",
   "name": "python3"
  },
  "language_info": {
   "codemirror_mode": {
    "name": "ipython",
    "version": 3
   },
   "file_extension": ".py",
   "mimetype": "text/x-python",
   "name": "python",
   "nbconvert_exporter": "python",
   "pygments_lexer": "ipython3",
   "version": "3.7.4"
  },
  "toc": {
   "base_numbering": 1,
   "nav_menu": {},
   "number_sections": true,
   "sideBar": true,
   "skip_h1_title": false,
   "title_cell": "Table of Contents",
   "title_sidebar": "Contents",
   "toc_cell": false,
   "toc_position": {},
   "toc_section_display": true,
   "toc_window_display": false
  },
  "varInspector": {
   "cols": {
    "lenName": 16,
    "lenType": 16,
    "lenVar": 40
   },
   "kernels_config": {
    "python": {
     "delete_cmd_postfix": "",
     "delete_cmd_prefix": "del ",
     "library": "var_list.py",
     "varRefreshCmd": "print(var_dic_list())"
    },
    "r": {
     "delete_cmd_postfix": ") ",
     "delete_cmd_prefix": "rm(",
     "library": "var_list.r",
     "varRefreshCmd": "cat(var_dic_list()) "
    }
   },
   "types_to_exclude": [
    "module",
    "function",
    "builtin_function_or_method",
    "instance",
    "_Feature"
   ],
   "window_display": false
  }
 },
 "nbformat": 4,
 "nbformat_minor": 2
}
