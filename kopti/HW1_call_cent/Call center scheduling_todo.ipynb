{
 "cells": [
  {
   "cell_type": "markdown",
   "id": "344e0238",
   "metadata": {},
   "source": [
    "# Call center scheduling"
   ]
  },
  {
   "cell_type": "code",
   "execution_count": 1,
   "id": "0137c9f0",
   "metadata": {},
   "outputs": [],
   "source": [
    "%matplotlib inline\n",
    "import gurobipy as g\n",
    "import matplotlib.pyplot as plt"
   ]
  },
  {
   "cell_type": "code",
   "execution_count": 2,
   "id": "7f9aa16b",
   "metadata": {},
   "outputs": [],
   "source": [
    "d = [6, 6, 6, 6, 6, 8, 9, 12, 18, 22, 25, 21, 21, 20, 18, 21, 21, 24, 24, 18, 18, 18, 12, 8]"
   ]
  },
  {
   "cell_type": "code",
   "execution_count": 14,
   "id": "25bcbb1e",
   "metadata": {},
   "outputs": [],
   "source": [
    "m = g.Model()\n",
    "\n",
    "\n",
    "\n"
   ]
  },
  {
   "cell_type": "code",
   "execution_count": 13,
   "id": "24cb33f9",
   "metadata": {},
   "outputs": [
    {
     "data": {
      "image/png": "[encoded data removed]",
      "text/plain": [
       "<Figure size 576x288 with 1 Axes>"
      ]
     },
     "metadata": {
      "needs_background": "light"
     },
     "output_type": "display_data"
    }
   ],
   "source": [
    "def plot_shifts(x_start):\n",
    "    num_shifts = [sum([x_start[k % 24] for k in range(i-7, i+1)]) for i in range(24)]\n",
    "    margin = 0.2\n",
    "    width = 0.3\n",
    "    plt.figure(figsize=(8, 4))\n",
    "    plt.bar([h + margin for h in range(24)], d, width=width, color='green')\n",
    "    plt.bar([h + margin + width for h in range(24)], num_shifts, width=width, color='yellow')\n",
    "    plt.xlabel(\"hour\")\n",
    "    plt.legend(['demand', 'number shifts'], ncol=2, bbox_to_anchor=(0.8, 1.1))\n",
    "    plt.xlim(0, 24)\n",
    "    plt.ylim(0, max(num_shifts + d) + 1)\n",
    "    plt.xticks(range(24), [i % 24 for i in range(24)])\n",
    "    plt.grid()\n",
    "    plt.show()\n",
    "    \n",
    "plot_shifts([x[i].x for i in range(24)])"
   ]
  },
  {
   "cell_type": "code",
   "execution_count": null,
   "id": "8f014dac",
   "metadata": {},
   "outputs": [],
   "source": []
  }
 ],
 "metadata": {
  "kernelspec": {
   "display_name": "Python 3 (ipykernel)",
   "language": "python",
   "name": "python3"
  },
  "language_info": {
   "codemirror_mode": {
    "name": "ipython",
    "version": 3
   },
   "file_extension": ".py",
   "mimetype": "text/x-python",
   "name": "python",
   "nbconvert_exporter": "python",
   "pygments_lexer": "ipython3",
   "version": "3.11.0"
  }
 },
 "nbformat": 4,
 "nbformat_minor": 5
}
